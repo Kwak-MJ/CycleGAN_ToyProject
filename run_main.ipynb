{
 "cells": [
  {
   "cell_type": "code",
   "execution_count": null,
   "metadata": {},
   "outputs": [
    {
     "ename": "",
     "evalue": "",
     "output_type": "error",
     "traceback": [
      "\u001b[1;31m현재 셀 또는 이전 셀에서 코드를 실행하는 동안 Kernel이 충돌했습니다. \n",
      "\u001b[1;31m셀의 코드를 검토하여 가능한 오류 원인을 식별하세요. \n",
      "\u001b[1;31m자세한 내용을 보려면 <a href='https://aka.ms/vscodeJupyterKernelCrash'>여기</a>를 클릭하세요. \n",
      "\u001b[1;31m자세한 내용은 Jupyter <a href='command:jupyter.viewOutput'>로그</a>를 참조하세요."
     ]
    }
   ],
   "source": [
    "!python main.py --mode test --batch_size 4 --data_dir C:/AI_Study/YAI/ToyProject_Real/Electric/datasets/person2electric --ckpt_dir C:/AI_Study/YAI/ToyProject_Real/Electric/checkpoint --log_dir C:/AI_Study/YAI/ToyProject_Real/Electric/log --result_dir C:/AI_Study/YAI/ToyProject_Real/Electric/result"
   ]
  }
 ],
 "metadata": {
  "kernelspec": {
   "display_name": "ToyProject",
   "language": "python",
   "name": "python3"
  },
  "language_info": {
   "codemirror_mode": {
    "name": "ipython",
    "version": 3
   },
   "file_extension": ".py",
   "mimetype": "text/x-python",
   "name": "python",
   "nbconvert_exporter": "python",
   "pygments_lexer": "ipython3",
   "version": "3.8.20"
  }
 },
 "nbformat": 4,
 "nbformat_minor": 2
}
